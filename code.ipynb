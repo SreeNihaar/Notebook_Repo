{
 "cells": [
  {
   "cell_type": "code",
   "execution_count": 1,
   "id": "c1cc1b5b",
   "metadata": {
    "execution": {
     "iopub.execute_input": "2025-04-24T02:12:18.926947Z",
     "iopub.status.busy": "2025-04-24T02:12:18.926638Z",
     "iopub.status.idle": "2025-04-24T02:12:20.928316Z",
     "shell.execute_reply": "2025-04-24T02:12:20.927299Z"
    },
    "papermill": {
     "duration": 2.00648,
     "end_time": "2025-04-24T02:12:20.930083",
     "exception": false,
     "start_time": "2025-04-24T02:12:18.923603",
     "status": "completed"
    },
    "tags": []
   },
   "outputs": [],
   "source": [
    "import numpy as np\n",
    "import pandas as pd\n",
    "\n",
    "input_path='/kaggle/input/my-datasets/advertising.csv'\n",
    "df=pd.read_csv(input_path)"
   ]
  },
  {
   "cell_type": "code",
   "execution_count": 2,
   "id": "18f97437",
   "metadata": {
    "execution": {
     "iopub.execute_input": "2025-04-24T02:12:20.934476Z",
     "iopub.status.busy": "2025-04-24T02:12:20.934181Z",
     "iopub.status.idle": "2025-04-24T02:12:20.954279Z",
     "shell.execute_reply": "2025-04-24T02:12:20.953070Z"
    },
    "papermill": {
     "duration": 0.024071,
     "end_time": "2025-04-24T02:12:20.956044",
     "exception": false,
     "start_time": "2025-04-24T02:12:20.931973",
     "status": "completed"
    },
    "tags": []
   },
   "outputs": [
    {
     "name": "stdout",
     "output_type": "stream",
     "text": [
      "        TV  Radio  Newspaper  Sales\n",
      "0    230.1   37.8       69.2   22.1\n",
      "1     44.5   39.3       45.1   10.4\n",
      "2     17.2   45.9       69.3   12.0\n",
      "3    151.5   41.3       58.5   16.5\n",
      "4    180.8   10.8       58.4   17.9\n",
      "..     ...    ...        ...    ...\n",
      "195   38.2    3.7       13.8    7.6\n",
      "196   94.2    4.9        8.1   14.0\n",
      "197  177.0    9.3        6.4   14.8\n",
      "198  283.6   42.0       66.2   25.5\n",
      "199  232.1    8.6        8.7   18.4\n",
      "\n",
      "[200 rows x 4 columns]\n"
     ]
    }
   ],
   "source": [
    "print(df)"
   ]
  }
 ],
 "metadata": {
  "kaggle": {
   "accelerator": "none",
   "dataSources": [
    {
     "datasetId": 7235673,
     "sourceId": 11537485,
     "sourceType": "datasetVersion"
    }
   ],
   "dockerImageVersionId": 31012,
   "isGpuEnabled": false,
   "isInternetEnabled": true,
   "language": "python",
   "sourceType": "notebook"
  },
  "kernelspec": {
   "display_name": "Python 3",
   "language": "python",
   "name": "python3"
  },
  "language_info": {
   "codemirror_mode": {
    "name": "ipython",
    "version": 3
   },
   "file_extension": ".py",
   "mimetype": "text/x-python",
   "name": "python",
   "nbconvert_exporter": "python",
   "pygments_lexer": "ipython3",
   "version": "3.11.11"
  },
  "papermill": {
   "default_parameters": {},
   "duration": 7.608408,
   "end_time": "2025-04-24T02:12:21.577246",
   "environment_variables": {},
   "exception": null,
   "input_path": "__notebook__.ipynb",
   "output_path": "__notebook__.ipynb",
   "parameters": {},
   "start_time": "2025-04-24T02:12:13.968838",
   "version": "2.6.0"
  }
 },
 "nbformat": 4,
 "nbformat_minor": 5
}
